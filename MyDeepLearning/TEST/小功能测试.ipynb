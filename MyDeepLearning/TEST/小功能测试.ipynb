{
 "cells": [
  {
   "cell_type": "code",
   "execution_count": null,
   "metadata": {
    "collapsed": true
   },
   "outputs": [],
   "source": [
    "import tensorflow as tf\n",
    "import numpy as np\n"
   ]
  },
  {
   "cell_type": "markdown",
   "metadata": {},
   "source": [
    "tf.nn.conv2d(input, filter, strides, padding, use_cudnn_on_gpu=None, name=None)\n",
    "<font color=red>第一个参数input：</font>\n",
    "   指需要做卷积的输入图像，它要求是一个Tensor，具有[batch, in_height, in_width, in_channels]这样的    shape，具体    含义是[训练时一个batch的图片数量, 图片高度, 图片宽度, 图像通道数]，注意这是一个4维的Tensor，要求类    型为        float32和float64其中之一\n",
    "<font color=red> 第二个参数filter：</font>\n",
    "相当于CNN中的卷积核，它要求是一个Tensor，具有[filter_height, filter_width, in_channels,            out_channels]这样的shape，具体含义是[卷积核的高度，卷积核的宽度，图像通道数，卷积核个数]，要求类型与参数input    相  同,filter的通道数要求与input的in_channels一致，有一个地方需要注意，第三维in_channels，就是参数input的第四    维\n",
    "\n",
    "<font color=red>第三个参数strides： </font>\n",
    "卷积时在图像每一维的步长，这是一个一维的向量，长度4，strides[0]=strides[3]=1\n",
    "\n",
    "<font color=red>第四个参数padding： </font>\n",
    "string类型的量，只能是\"SAME\",\"VALID\"其中之一，这个值决定了不同的卷积方式（后面会介绍）\n",
    "\n",
    "<font color=red> 第五个参数：use_cudnn_on_gpu:</font>\n",
    "bool类型，是否使用cudnn加速，默认为true\n",
    "\n",
    "<font color=red>结果返回 </font>\n",
    "一个Tensor，这个输出，就是我们常说的feature map"
   ]
  },
  {
   "cell_type": "code",
   "execution_count": 41,
   "metadata": {
    "collapsed": false
   },
   "outputs": [
    {
     "name": "stdout",
     "output_type": "stream",
     "text": [
      "input= [[[[-0.34493417 -0.10738501]\n",
      "   [-0.85022193  1.71712673]\n",
      "   [-0.60275549  0.19930522]]\n",
      "\n",
      "  [[ 0.32434443  0.93755305]\n",
      "   [-0.44820955 -0.64372748]\n",
      "   [ 0.58225816  0.13690184]]\n",
      "\n",
      "  [[-1.20702815  0.46286833]\n",
      "   [ 0.46935585  1.34038448]\n",
      "   [-0.56047243  1.21324253]]]]\n",
      "filter= [[[[ 0.98620719  0.32378533]\n",
      "   [ 0.5578512  -1.12953448]]\n",
      "\n",
      "  [[-0.28526396  0.17154564]\n",
      "   [-1.51936436 -2.30176568]]\n",
      "\n",
      "  [[-2.34293437 -0.70343775]\n",
      "   [-1.07427549  1.67923558]]]\n",
      "\n",
      "\n",
      " [[[-0.485277    1.11246312]\n",
      "   [ 0.02792515  0.75532722]]\n",
      "\n",
      "  [[-0.26506284 -1.46572471]\n",
      "   [ 0.10474318 -0.45718116]]\n",
      "\n",
      "  [[-0.90435976 -0.99199212]\n",
      "   [-0.87528074 -1.73675561]]]\n",
      "\n",
      "\n",
      " [[[ 0.65318054  0.14416404]\n",
      "   [-0.6814785  -0.43309295]]\n",
      "\n",
      "  [[-1.63798225  2.07280302]\n",
      "   [ 0.26454189  0.65028101]]\n",
      "\n",
      "  [[-0.90376294 -0.58944052]\n",
      "   [-0.62296063  0.97574115]]]]\n",
      "result= [[[[-4.06193161  0.85909855]]]]\n"
     ]
    }
   ],
   "source": [
    "#conv2d test\n",
    "\n",
    "input=tf.Variable(tf.random_normal([1,3,3,2])) #一个3*3 的2通道图像\n",
    "filter=tf.Variable(tf.random_normal([3,3,2,2])) # 使用2个3*3 的卷积核\n",
    "op=tf.nn.conv2d(input,filter,strides=[1,1,1,1],padding=\"VALID\")  #fliter 作用于input 上将会输出3个3*3 的feature-map \n",
    "init=tf.global_variables_initializer()\n",
    "with tf.Session() as sess:\n",
    "    sess.run(init)\n",
    "    print(\"input=\",input.eval())\n",
    "    print(\"filter=\",filter.eval())\n",
    "    print(\"result=\",sess.run(op))\n"
   ]
  },
  {
   "cell_type": "code",
   "execution_count": null,
   "metadata": {
    "collapsed": false
   },
   "outputs": [],
   "source": [
    "#矩阵乘法\n",
    "from numpy import *\n",
    "A=mat(random.rand(10,10))\n",
    "x=mat(random.rand(10,1))\n",
    "print(x)\n",
    "b=A*x\n",
    "print(b)"
   ]
  },
  {
   "cell_type": "code",
   "execution_count": null,
   "metadata": {
    "collapsed": true
   },
   "outputs": [],
   "source": []
  },
  {
   "cell_type": "code",
   "execution_count": null,
   "metadata": {
    "collapsed": true
   },
   "outputs": [],
   "source": []
  }
 ],
 "metadata": {
  "kernelspec": {
   "display_name": "Python 3",
   "language": "python",
   "name": "python3"
  },
  "language_info": {
   "codemirror_mode": {
    "name": "ipython",
    "version": 3
   },
   "file_extension": ".py",
   "mimetype": "text/x-python",
   "name": "python",
   "nbconvert_exporter": "python",
   "pygments_lexer": "ipython3",
   "version": "3.6.0"
  }
 },
 "nbformat": 4,
 "nbformat_minor": 2
}
