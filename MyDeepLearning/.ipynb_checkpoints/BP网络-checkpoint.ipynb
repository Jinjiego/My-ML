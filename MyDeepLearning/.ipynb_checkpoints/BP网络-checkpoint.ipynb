{
 "cells": [
  {
   "cell_type": "code",
   "execution_count": 55,
   "metadata": {
    "collapsed": false
   },
   "outputs": [],
   "source": [
    "import tensorflow as tf\n",
    "from numpy import *\n",
    "import matplotlib.pyplot as plt\n",
    "from mpl_toolkits.mplot3d import Axes3D \n",
    "\n",
    "Input=1\n",
    "Output=1\n",
    "Hidden=10\n",
    "\n",
    "wij=tf.Variable(tf.random_normal([Input,Hidden],stddev=1,seed=1))\n",
    "wjk=tf.Variable(tf.random_normal([Hidden,Output],stddev=1,seed=1))\n",
    "\n",
    "x=tf.placeholder(tf.float32,shape=[None,Input],name='input')\n",
    "_y=tf.placeholder(tf.float32,shape=[None,Output],name='output')\n",
    "\n"
   ]
  },
  {
   "cell_type": "code",
   "execution_count": 56,
   "metadata": {
    "collapsed": true
   },
   "outputs": [],
   "source": [
    "h=tf.matmul(x,wij)\n",
    "y=tf.matmul(h,wjk)   # y is output of network\n",
    "\n",
    "loss=tf.losses.mean_squared_error(y,_y)\n",
    "\n",
    "train_step=tf.train.AdamOptimizer(0.001).minimize(loss)\n"
   ]
  },
  {
   "cell_type": "code",
   "execution_count": 64,
   "metadata": {
    "collapsed": false
   },
   "outputs": [
    {
     "data": {
      "image/png": "[encoded data removed]",
      "text/plain": [
       "<matplotlib.figure.Figure at 0x25ea91f8b38>"
      ]
     },
     "metadata": {},
     "output_type": "display_data"
    }
   ],
   "source": [
    "M=100\n",
    "X=arange(-10,10,1)\n",
    "Y=[[x**2 ] for x in X]\n",
    "X=mat(X).T\n",
    "Y=mat(Y)\n",
    "plt.plot(X,Y)\n",
    "plt.show()\n"
   ]
  },
  {
   "cell_type": "raw",
   "metadata": {
    "raw_mimetype": "text/html"
   },
   "source": [
    "M=2000\n",
    "rdm=random.RandomState(1)\n",
    "X=rdm.rand(M,Input)\n",
    "Y=[ [x1**2+x2**2] for (x1,x2) in X ]\n",
    "print(type(X))\n",
    "print(shape(Y))\n",
    "\n",
    "x1=arange(-10,10,0.1)\n",
    "x2=arange(-10,10,0.1)\n",
    "\n",
    "x_1,x_2=meshgrid(x1,x2)\n",
    "r=sqrt(x_1**2+x_2**2)\n",
    "z=sin(r)\n",
    "\n",
    "fig=plt.figure()\n",
    "ax=Axes3D(fig)\n",
    "ax.plot_surface(x_1,x_2,z)\n",
    "plt.show()\n",
    "m,n=shape(x_1)\n",
    "X=[]\n",
    "Y=[]\n",
    "for i in range(m):\n",
    "    for j in range(n):\n",
    "        X.append([x_1[i][j],x_2[i][j] ] )\n",
    "        Y.append([ z[i][j] ])\n",
    "X=mat(X)\n",
    "Y=mat(Y)\n",
    "print(type(z))\n",
    "print(shape(Y))"
   ]
  },
  {
   "cell_type": "code",
   "execution_count": 65,
   "metadata": {
    "collapsed": false
   },
   "outputs": [
    {
     "name": "stdout",
     "output_type": "stream",
     "text": [
      "1 : 10589.8\n",
      "1000 : 2794.11\n",
      "2000 : 1958.98\n",
      "3000 : 1958.67\n",
      "4000 : 1958.67\n",
      "5000 : 1958.67\n"
     ]
    },
    {
     "data": {
      "image/png": "[encoded data removed]",
      "text/plain": [
       "<matplotlib.figure.Figure at 0x25ea914e860>"
      ]
     },
     "metadata": {},
     "output_type": "display_data"
    },
    {
     "name": "stdout",
     "output_type": "stream",
     "text": [
      "test...\n"
     ]
    }
   ],
   "source": [
    "with tf.Session() as sess:\n",
    "    init_op=tf.global_variables_initializer()\n",
    "    sess.run(init_op)\n",
    "    \n",
    "    Epoch=5000\n",
    "    batch=200\n",
    "    error=[]\n",
    "    for i in range(Epoch):\n",
    "        s=(i*batch)%M\n",
    "        t=s+batch\n",
    "        \n",
    "        sess.run(train_step,feed_dict={x:X[s:t],_y:Y[s:t]})\n",
    "        if(i==0 or (i+1)%1000==0):\n",
    "            error.append(sess.run(loss,feed_dict={x:X,_y:Y}))\n",
    "            print(i+1,\":\",error[-1])\n",
    "    yy=sess.run(y,feed_dict={x:X})   \n",
    "    plt.plot(yy)\n",
    "    plt.plot(Y)\n",
    "    plt.show()\n",
    "\n",
    "    YY=Y.copy()\n",
    "    print('test...')\n",
    "    m,n=shape(X)\n",
    "    for k in range(m*n):\n",
    "        YY[int(k/n)][k%n]=yy[k]\n",
    "    \n",
    "    "
   ]
  }
 ],
 "metadata": {
  "celltoolbar": "Raw Cell Format",
  "kernelspec": {
   "display_name": "Python 3",
   "language": "python",
   "name": "python3"
  },
  "language_info": {
   "codemirror_mode": {
    "name": "ipython",
    "version": 3
   },
   "file_extension": ".py",
   "mimetype": "text/x-python",
   "name": "python",
   "nbconvert_exporter": "python",
   "pygments_lexer": "ipython3",
   "version": "3.6.0"
  }
 },
 "nbformat": 4,
 "nbformat_minor": 2
}
