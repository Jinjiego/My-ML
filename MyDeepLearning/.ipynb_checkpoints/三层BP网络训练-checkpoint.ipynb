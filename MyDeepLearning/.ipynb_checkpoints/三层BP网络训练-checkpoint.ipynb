{
 "cells": [
  {
   "cell_type": "markdown",
   "metadata": {},
   "source": [
    "# 1 defination of parameters of network"
   ]
  },
  {
   "cell_type": "code",
   "execution_count": 98,
   "metadata": {
    "collapsed": false,
    "scrolled": false
   },
   "outputs": [],
   "source": [
    "import tensorflow as tf\n",
    "from numpy import * \n",
    "import matplotlib.pyplot as plt\n",
    "Input=10   # 输入层节点数目\n",
    "Hidden=80  #隐含层节点数目\n",
    "Output=20   #输出层节点数目\n",
    "\n",
    "#定义权值变量矩阵\n",
    "w1=tf.Variable(tf.random_normal([Input,Hidden],stddev=1,seed=1) ) # There are 10 nodes in input layer and 20 nodes hidden  layer \n",
    "w2=tf.Variable(tf.random_normal([Hidden,Output],stddev=1,seed=1))\n",
    "\n",
    "x=tf.placeholder(tf.float32,shape=[None,Input],name='Input' )\n",
    "_y=tf.placeholder(tf.float32,shape=[None,Output],name=\"Output\")"
   ]
  },
  {
   "cell_type": "markdown",
   "metadata": {},
   "source": [
    "# 2 define forward-propagate process,loss function and back-propagating algorithm"
   ]
  },
  {
   "cell_type": "code",
   "execution_count": 99,
   "metadata": {
    "collapsed": true
   },
   "outputs": [],
   "source": [
    "# forward-propagate process\n",
    "a=tf.matmul(x,w1) \n",
    "y=tf.matmul(a,w2) \n",
    "#loss function \n",
    "cross_entropy=-tf.reduce_mean(_y*tf.log(tf.clip_by_value(y,1e-10,1.0)))\n",
    "# back-propagating algorithm\n",
    "train_step=tf.train.AdamOptimizer(0.001).minimize(cross_entropy) "
   ]
  },
  {
   "cell_type": "markdown",
   "metadata": {},
   "source": [
    "# 3 Generating simulation dataset "
   ]
  },
  {
   "cell_type": "markdown",
   "metadata": {},
   "source": [
    "PX=b "
   ]
  },
  {
   "cell_type": "code",
   "execution_count": 103,
   "metadata": {
    "collapsed": false
   },
   "outputs": [
    {
     "name": "stdout",
     "output_type": "stream",
     "text": [
      "X： (2000, 10) ,Y： (2000, 20)\n"
     ]
    }
   ],
   "source": [
    "M=2000\n",
    "rdm=random.RandomState(1)\n",
    "P=mat(rdm.rand(Output,Input))  #生成一个变换(行)空间\n",
    "X=mat(rdm.rand(M,Input))\n",
    "Y=P*X.T                        #把原始数据投影到新的(P) 空间\n",
    "Y=Y.T\n",
    "print(\"X：\",shape(X),\",Y：\",shape(Y))\n",
    "X_test=mat(rdm.rand(500,Input))\n",
    "Y_test=(P*X_test.T).T\n"
   ]
  },
  {
   "cell_type": "markdown",
   "metadata": {},
   "source": [
    "# 4 Creating a session  to perform programming of tensorflow  "
   ]
  },
  {
   "cell_type": "code",
   "execution_count": 105,
   "metadata": {
    "collapsed": false
   },
   "outputs": [
    {
     "name": "stdout",
     "output_type": "stream",
     "text": [
      "training...\n",
      "1 : 24.2175\n",
      "500 : 5.99934\n",
      "1000 : 2.98817\n",
      "1500 : 2.92924\n",
      "2000 : 2.90639\n",
      "2500 : 2.90213\n",
      "3000 : 2.90211\n",
      "3500 : 2.90211\n",
      "4000 : 2.90211\n",
      "4500 : 2.90211\n",
      "5000 : 2.90211\n"
     ]
    },
    {
     "data": {
      "image/png": "[encoded data removed]",
      "text/plain": [
       "<matplotlib.figure.Figure at 0x17e14c2c4a8>"
      ]
     },
     "metadata": {},
     "output_type": "display_data"
    },
    {
     "name": "stdout",
     "output_type": "stream",
     "text": [
      "Tensor(\"norm/Squeeze:0\", shape=(), dtype=float64)\n"
     ]
    }
   ],
   "source": [
    "with tf.Session() as sess:\n",
    "    init_op=tf.global_variables_initializer()\n",
    "    sess.run(init_op)\n",
    "    batchSize=80\n",
    "    Epoch=5000\n",
    "    print(\"training...\")\n",
    "    total_cross_entropy=[]\n",
    "    for i in range(Epoch):\n",
    "        s=(i*batchSize)%M\n",
    "        t=(i*batchSize)%M+batchSize\n",
    "        sess.run(train_step,feed_dict={x:X[s:t],_y:Y[s:t]})\n",
    "        if(i==0 or (i+1)%500==0 ):\n",
    "            total_cross_entropy.append(sess.run(cross_entropy,feed_dict={x:X,_y:Y}))\n",
    "            print(i+1,\":\",total_cross_entropy[-1] )\n",
    "    plt.plot(total_cross_entropy)\n",
    "    plt.xlabel('iterations')\n",
    "    plt.ylabel('total_cross_entropy')\n",
    "    plt.show()\n",
    " \n",
    "    y_test=sess.run(y,feed_dict={x:X_test})  #测试集\n",
    "    \n",
    "\n",
    "\n",
    "            "
   ]
  }
 ],
 "metadata": {
  "celltoolbar": "Raw Cell Format",
  "kernelspec": {
   "display_name": "Python 3",
   "language": "python",
   "name": "python3"
  },
  "language_info": {
   "codemirror_mode": {
    "name": "ipython",
    "version": 3
   },
   "file_extension": ".py",
   "mimetype": "text/x-python",
   "name": "python",
   "nbconvert_exporter": "python",
   "pygments_lexer": "ipython3",
   "version": "3.6.0"
  }
 },
 "nbformat": 4,
 "nbformat_minor": 0
}
