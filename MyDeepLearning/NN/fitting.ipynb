{
 "cells": [
  {
   "cell_type": "code",
   "execution_count": 17,
   "metadata": {
    "collapsed": false
   },
   "outputs": [
    {
     "data": {
      "image/png": "[encoded data removed]",
      "text/plain": [
       "<matplotlib.figure.Figure at 0x23d37a86e80>"
      ]
     },
     "metadata": {},
     "output_type": "display_data"
    },
    {
     "name": "stdout",
     "output_type": "stream",
     "text": [
      "training...\n",
      "removing exception\n",
      "[<matplotlib.lines.Line2D object at 0x0000023D3684C3C8>]\n",
      "[<matplotlib.lines.Line2D object at 0x0000023D36805978>]\n",
      "[<matplotlib.lines.Line2D object at 0x0000023D3684C3C8>]\n",
      "[<matplotlib.lines.Line2D object at 0x0000023D36835358>]\n",
      "[<matplotlib.lines.Line2D object at 0x0000023D3683BEB8>]\n",
      "[<matplotlib.lines.Line2D object at 0x0000023D381895C0>]\n",
      "[<matplotlib.lines.Line2D object at 0x0000023D36830B70>]\n",
      "[<matplotlib.lines.Line2D object at 0x0000023D381895C0>]\n",
      "[<matplotlib.lines.Line2D object at 0x0000023D3684C3C8>]\n",
      "[<matplotlib.lines.Line2D object at 0x0000023D3814CEB8>]\n",
      "[<matplotlib.lines.Line2D object at 0x0000023D380E8CF8>]\n",
      "[<matplotlib.lines.Line2D object at 0x0000023D38131A58>]\n",
      "[<matplotlib.lines.Line2D object at 0x0000023D3680EB70>]\n",
      "[<matplotlib.lines.Line2D object at 0x0000023D36830400>]\n",
      "[<matplotlib.lines.Line2D object at 0x0000023D3680EB70>]\n",
      "[<matplotlib.lines.Line2D object at 0x0000023D3680ED68>]\n",
      "[<matplotlib.lines.Line2D object at 0x0000023D3814CEB8>]\n",
      "[<matplotlib.lines.Line2D object at 0x0000023D3814C7F0>]\n",
      "[<matplotlib.lines.Line2D object at 0x0000023D361337F0>]\n",
      "[<matplotlib.lines.Line2D object at 0x0000023D3681BBE0>]\n"
     ]
    }
   ],
   "source": [
    "from __future__ import print_function\n",
    "import tensorflow as tf\n",
    "import numpy as np\n",
    "import matplotlib.pyplot as plt\n",
    "\n",
    "def add_layer(inputs, in_size, out_size, activation_function=None):\n",
    "    # add one more layer and return the output of this layer\n",
    "    Weights = tf.Variable(tf.random_normal([in_size, out_size]))\n",
    "    biases = tf.Variable(tf.zeros([1, out_size]) + 0.1)\n",
    "    Wx_plus_b = tf.matmul(inputs, Weights) + biases\n",
    "    if activation_function is None:\n",
    "        outputs = Wx_plus_b\n",
    "    else:\n",
    "        outputs = activation_function(Wx_plus_b)\n",
    "    return outputs\n",
    "\n",
    "# Make up some real data\n",
    "x_data = np.linspace(-1,1,300)[:, np.newaxis]\n",
    "noise = np.random.normal(0, 0.05, x_data.shape)\n",
    "y_data = np.square(x_data) - 0.5 + noise\n",
    "\n",
    "# define placeholder for inputs to network\n",
    "xs = tf.placeholder(tf.float32, [None, 1])\n",
    "ys = tf.placeholder(tf.float32, [None, 1])\n",
    "# add hidden layer\n",
    "l1 = add_layer(xs, 1, 10, activation_function=tf.nn.relu)\n",
    "# add output layer\n",
    "prediction = add_layer(l1, 10, 1, activation_function=None)\n",
    "\n",
    "# the error between prediciton and real data\n",
    "loss = tf.reduce_mean(tf.reduce_sum(tf.square(ys - prediction),\n",
    "                     reduction_indices=[1]))\n",
    "train_step = tf.train.GradientDescentOptimizer(0.01).minimize(loss)\n",
    "\n",
    "# important step\n",
    "init = tf.global_variables_initializer()\n",
    "sess = tf.Session()\n",
    "sess.run(init)\n",
    "\n",
    "# plot the real data\n",
    "fig = plt.figure()\n",
    "ax = fig.add_subplot(1,1,1)\n",
    "ax.scatter(x_data, y_data)\n",
    "\n",
    "plt.show()\n",
    "plt.ion()\n",
    "print(\"training...\")\n",
    "for i in range(1000):\n",
    "    # training\n",
    "    \n",
    "    sess.run(train_step, feed_dict={xs: x_data, ys: y_data})\n",
    "    if i % 50 == 0:\n",
    "        # to visualize the result and improvement\n",
    "        try:\n",
    "            ax.lines.remove(lines[0])\n",
    "        except Exception:\n",
    "            print('removing exception')\n",
    "            pass\n",
    "        prediction_value = sess.run(prediction, feed_dict={xs: x_data})\n",
    "        # plot the prediction\n",
    "        lines = ax.plot(x_data, prediction_value, 'r-', lw=5)\n",
    "        print(lines)"
   ]
  }
 ],
 "metadata": {
  "kernelspec": {
   "display_name": "Python 3",
   "language": "python",
   "name": "python3"
  },
  "language_info": {
   "codemirror_mode": {
    "name": "ipython",
    "version": 3.0
   },
   "file_extension": ".py",
   "mimetype": "text/x-python",
   "name": "python",
   "nbconvert_exporter": "python",
   "pygments_lexer": "ipython3",
   "version": "3.6.0"
  }
 },
 "nbformat": 4,
 "nbformat_minor": 0
}